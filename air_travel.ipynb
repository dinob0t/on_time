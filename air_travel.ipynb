{
 "metadata": {
  "name": "",
  "signature": "sha256:da957c9e7e548537639d5015d4b83b647fbb30c6a45313fe7aff9bd0e98a920c"
 },
 "nbformat": 3,
 "nbformat_minor": 0,
 "worksheets": [
  {
   "cells": [
    {
     "cell_type": "code",
     "collapsed": false,
     "input": [],
     "language": "python",
     "metadata": {},
     "outputs": []
    }
   ],
   "metadata": {}
  }
 ]
}