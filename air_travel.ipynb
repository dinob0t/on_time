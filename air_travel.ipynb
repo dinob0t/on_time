{
 "metadata": {
  "name": "",
  "signature": "sha256:fe0aa57d6e6a7d07d7eca153b95c15a37b382561eb61980cf890060b0439a6c9"
 },
 "nbformat": 3,
 "nbformat_minor": 0,
 "worksheets": [
  {
   "cells": [
    {
     "cell_type": "code",
     "collapsed": false,
     "input": [
      "# Standard imports\n",
      "import numpy as np\n",
      "import pandas as pd\n",
      "import matplotlib.pyplot as plt\n",
      "%matplotlib inline"
     ],
     "language": "python",
     "metadata": {},
     "outputs": [],
     "prompt_number": 1
    },
    {
     "cell_type": "code",
     "collapsed": false,
     "input": [
      "# Import additional data\n",
      "df_airports = pd.read_csv('airport_IDs.csv')\n",
      "df_carriers = pd.read_csv('carriers.csv')"
     ],
     "language": "python",
     "metadata": {},
     "outputs": [],
     "prompt_number": 2
    },
    {
     "cell_type": "code",
     "collapsed": false,
     "input": [
      "# Import primary data\n",
      "\n",
      "first = True\n",
      "for year in range(2009,2014):\n",
      "    for month in range(1,13):\n",
      "        if first:\n",
      "            df = pd.read_csv('2009_01.csv',na_filter=True)\n",
      "            first=False    \n",
      "        cur_file = str(year)+'_'+str(month).zfill(2)+'.csv'\n",
      "        df.append(pd.read_csv(cur_file,na_filter=True),ignore_index=True)\n",
      "        print 'Adding ' + cur_file\n",
      "df = pd.read_csv('2009_01.csv',na_filter=True)\n",
      "df.drop('Unnamed: 16', axis=1, inplace=True)\n",
      "# Replace missing data\n",
      "df.replace(to_replace=np.NaN, value=0.0, inplace=True)"
     ],
     "language": "python",
     "metadata": {},
     "outputs": [
      {
       "output_type": "stream",
       "stream": "stdout",
       "text": [
        "Adding 2009_01.csv\n",
        "Adding 2009_02.csv"
       ]
      },
      {
       "output_type": "stream",
       "stream": "stdout",
       "text": [
        "\n",
        "Adding 2009_03.csv"
       ]
      },
      {
       "output_type": "stream",
       "stream": "stdout",
       "text": [
        "\n",
        "Adding 2009_04.csv"
       ]
      },
      {
       "output_type": "stream",
       "stream": "stdout",
       "text": [
        "\n",
        "Adding 2009_05.csv"
       ]
      },
      {
       "output_type": "stream",
       "stream": "stdout",
       "text": [
        "\n",
        "Adding 2009_06.csv"
       ]
      },
      {
       "output_type": "stream",
       "stream": "stdout",
       "text": [
        "\n",
        "Adding 2009_07.csv"
       ]
      },
      {
       "output_type": "stream",
       "stream": "stdout",
       "text": [
        "\n",
        "Adding 2009_08.csv"
       ]
      },
      {
       "output_type": "stream",
       "stream": "stdout",
       "text": [
        "\n",
        "Adding 2009_09.csv"
       ]
      },
      {
       "output_type": "stream",
       "stream": "stdout",
       "text": [
        "\n",
        "Adding 2009_10.csv"
       ]
      },
      {
       "output_type": "stream",
       "stream": "stdout",
       "text": [
        "\n",
        "Adding 2009_11.csv"
       ]
      },
      {
       "output_type": "stream",
       "stream": "stdout",
       "text": [
        "\n",
        "Adding 2009_12.csv"
       ]
      },
      {
       "output_type": "stream",
       "stream": "stdout",
       "text": [
        "\n",
        "Adding 2010_01.csv"
       ]
      },
      {
       "output_type": "stream",
       "stream": "stdout",
       "text": [
        "\n",
        "Adding 2010_02.csv"
       ]
      },
      {
       "output_type": "stream",
       "stream": "stdout",
       "text": [
        "\n",
        "Adding 2010_03.csv"
       ]
      },
      {
       "output_type": "stream",
       "stream": "stdout",
       "text": [
        "\n",
        "Adding 2010_04.csv"
       ]
      },
      {
       "output_type": "stream",
       "stream": "stdout",
       "text": [
        "\n",
        "Adding 2010_05.csv"
       ]
      },
      {
       "output_type": "stream",
       "stream": "stdout",
       "text": [
        "\n",
        "Adding 2010_06.csv"
       ]
      },
      {
       "output_type": "stream",
       "stream": "stdout",
       "text": [
        "\n",
        "Adding 2010_07.csv"
       ]
      },
      {
       "output_type": "stream",
       "stream": "stdout",
       "text": [
        "\n",
        "Adding 2010_08.csv"
       ]
      },
      {
       "output_type": "stream",
       "stream": "stdout",
       "text": [
        "\n",
        "Adding 2010_09.csv"
       ]
      },
      {
       "output_type": "stream",
       "stream": "stdout",
       "text": [
        "\n",
        "Adding 2010_10.csv"
       ]
      },
      {
       "output_type": "stream",
       "stream": "stdout",
       "text": [
        "\n",
        "Adding 2010_11.csv"
       ]
      },
      {
       "output_type": "stream",
       "stream": "stdout",
       "text": [
        "\n",
        "Adding 2010_12.csv"
       ]
      },
      {
       "output_type": "stream",
       "stream": "stdout",
       "text": [
        "\n",
        "Adding 2011_01.csv"
       ]
      },
      {
       "output_type": "stream",
       "stream": "stdout",
       "text": [
        "\n",
        "Adding 2011_02.csv"
       ]
      },
      {
       "output_type": "stream",
       "stream": "stdout",
       "text": [
        "\n",
        "Adding 2011_03.csv"
       ]
      },
      {
       "output_type": "stream",
       "stream": "stdout",
       "text": [
        "\n",
        "Adding 2011_04.csv"
       ]
      },
      {
       "output_type": "stream",
       "stream": "stdout",
       "text": [
        "\n",
        "Adding 2011_05.csv"
       ]
      },
      {
       "output_type": "stream",
       "stream": "stdout",
       "text": [
        "\n",
        "Adding 2011_06.csv"
       ]
      },
      {
       "output_type": "stream",
       "stream": "stdout",
       "text": [
        "\n",
        "Adding 2011_07.csv"
       ]
      },
      {
       "output_type": "stream",
       "stream": "stdout",
       "text": [
        "\n",
        "Adding 2011_08.csv"
       ]
      },
      {
       "output_type": "stream",
       "stream": "stdout",
       "text": [
        "\n",
        "Adding 2011_09.csv"
       ]
      },
      {
       "output_type": "stream",
       "stream": "stdout",
       "text": [
        "\n",
        "Adding 2011_10.csv"
       ]
      },
      {
       "output_type": "stream",
       "stream": "stdout",
       "text": [
        "\n",
        "Adding 2011_11.csv"
       ]
      },
      {
       "output_type": "stream",
       "stream": "stdout",
       "text": [
        "\n",
        "Adding 2011_12.csv"
       ]
      },
      {
       "output_type": "stream",
       "stream": "stdout",
       "text": [
        "\n",
        "Adding 2012_01.csv"
       ]
      },
      {
       "output_type": "stream",
       "stream": "stdout",
       "text": [
        "\n",
        "Adding 2012_02.csv"
       ]
      },
      {
       "output_type": "stream",
       "stream": "stdout",
       "text": [
        "\n",
        "Adding 2012_03.csv"
       ]
      },
      {
       "output_type": "stream",
       "stream": "stdout",
       "text": [
        "\n",
        "Adding 2012_04.csv"
       ]
      },
      {
       "output_type": "stream",
       "stream": "stdout",
       "text": [
        "\n",
        "Adding 2012_05.csv"
       ]
      },
      {
       "output_type": "stream",
       "stream": "stdout",
       "text": [
        "\n",
        "Adding 2012_06.csv"
       ]
      },
      {
       "output_type": "stream",
       "stream": "stdout",
       "text": [
        "\n",
        "Adding 2012_07.csv"
       ]
      },
      {
       "output_type": "stream",
       "stream": "stdout",
       "text": [
        "\n",
        "Adding 2012_08.csv"
       ]
      },
      {
       "output_type": "stream",
       "stream": "stdout",
       "text": [
        "\n",
        "Adding 2012_09.csv"
       ]
      },
      {
       "output_type": "stream",
       "stream": "stdout",
       "text": [
        "\n",
        "Adding 2012_10.csv"
       ]
      },
      {
       "output_type": "stream",
       "stream": "stdout",
       "text": [
        "\n",
        "Adding 2012_11.csv"
       ]
      },
      {
       "output_type": "stream",
       "stream": "stdout",
       "text": [
        "\n",
        "Adding 2012_12.csv"
       ]
      },
      {
       "output_type": "stream",
       "stream": "stdout",
       "text": [
        "\n",
        "Adding 2013_01.csv"
       ]
      },
      {
       "output_type": "stream",
       "stream": "stdout",
       "text": [
        "\n",
        "Adding 2013_02.csv"
       ]
      },
      {
       "output_type": "stream",
       "stream": "stdout",
       "text": [
        "\n",
        "Adding 2013_03.csv"
       ]
      },
      {
       "output_type": "stream",
       "stream": "stdout",
       "text": [
        "\n",
        "Adding 2013_04.csv"
       ]
      },
      {
       "output_type": "stream",
       "stream": "stdout",
       "text": [
        "\n",
        "Adding 2013_05.csv"
       ]
      },
      {
       "output_type": "stream",
       "stream": "stdout",
       "text": [
        "\n",
        "Adding 2013_06.csv"
       ]
      },
      {
       "output_type": "stream",
       "stream": "stdout",
       "text": [
        "\n",
        "Adding 2013_07.csv"
       ]
      },
      {
       "output_type": "stream",
       "stream": "stdout",
       "text": [
        "\n",
        "Adding 2013_08.csv"
       ]
      },
      {
       "output_type": "stream",
       "stream": "stdout",
       "text": [
        "\n",
        "Adding 2013_09.csv"
       ]
      },
      {
       "output_type": "stream",
       "stream": "stdout",
       "text": [
        "\n",
        "Adding 2013_10.csv"
       ]
      },
      {
       "output_type": "stream",
       "stream": "stdout",
       "text": [
        "\n",
        "Adding 2013_11.csv"
       ]
      },
      {
       "output_type": "stream",
       "stream": "stdout",
       "text": [
        "\n",
        "Adding 2013_12.csv"
       ]
      },
      {
       "output_type": "stream",
       "stream": "stdout",
       "text": [
        "\n"
       ]
      }
     ],
     "prompt_number": 63
    },
    {
     "cell_type": "code",
     "collapsed": false,
     "input": [
      "# Merge in carrier ID information\n",
      "df = df.merge(df_carriers, left_on='UNIQUE_CARRIER', right_on='Code')\n",
      "df.drop('Code',axis=1, inplace=True)\n",
      "df.rename(columns={'Description': 'CARRIER'}, inplace=True)"
     ],
     "language": "python",
     "metadata": {},
     "outputs": [],
     "prompt_number": 7
    },
    {
     "cell_type": "code",
     "collapsed": false,
     "input": [
      "# Merge on origin airport ID\n",
      "df = df.merge(df_airports, left_on='ORIGIN_AIRPORT_ID', right_on='Code')\n",
      "df.drop('Code', axis=1, inplace=True)\n",
      "df.rename(columns={'Description': 'ORIGIN_AIRPORT'}, inplace=True)"
     ],
     "language": "python",
     "metadata": {},
     "outputs": [],
     "prompt_number": 9
    },
    {
     "cell_type": "code",
     "collapsed": false,
     "input": [
      "# Merge on destination airport ID\n",
      "df = df.merge(df_airports, left_on='DEST_AIRPORT_ID', right_on='Code')\n",
      "df.drop('Code', axis=1, inplace=True)\n",
      "df.rename(columns={'Description': 'DEST_AIRPORT'}, inplace=True)"
     ],
     "language": "python",
     "metadata": {},
     "outputs": [],
     "prompt_number": 11
    },
    {
     "cell_type": "code",
     "collapsed": false,
     "input": [
      "# Find and sort departure delays by origin airport\n",
      "dep_delay_origin = df.groupby(['ORIGIN_AIRPORT']).DEP_DELAY.mean()\n",
      "dep_delay_origin.sort()\n",
      "print 'Origin Airports with the smallest (or early) departure delay'\n",
      "dep_delay_origin.head(10)"
     ],
     "language": "python",
     "metadata": {},
     "outputs": [
      {
       "output_type": "stream",
       "stream": "stdout",
       "text": [
        "Origin Airports with the smallest (or early) delay\n"
       ]
      },
      {
       "metadata": {},
       "output_type": "pyout",
       "prompt_number": 12,
       "text": [
        "ORIGIN_AIRPORT\n",
        "Cody, WY: Yellowstone Regional                                 -6.858824\n",
        "Sioux City, IA: Sioux Gateway/Col. Bud Day Field               -4.500000\n",
        "El Centro, CA: Imperial County                                 -4.385965\n",
        "Lake Charles, LA: Lake Charles Regional                        -3.838235\n",
        "Telluride, CO: Telluride Regional                              -3.666667\n",
        "Elko, NV: Elko Regional                                        -2.560976\n",
        "Brownsville, TX: Brownsville South Padre Island International   -2.140625\n",
        "Flagstaff, AZ: Flagstaff Pulliam                               -1.953271\n",
        "Yuma, AZ: Yuma MCAS/Yuma International                         -1.785714\n",
        "Santa Maria, CA: Santa Maria Public/Capt. G. Allan Hancock Field   -1.781513\n",
        "Name: DEP_DELAY, dtype: float64"
       ]
      }
     ],
     "prompt_number": 12
    },
    {
     "cell_type": "code",
     "collapsed": false,
     "input": [
      "print 'Origin Airports with the largest departure delay'\n",
      "dep_delay_origin.tail(10)"
     ],
     "language": "python",
     "metadata": {},
     "outputs": [
      {
       "output_type": "stream",
       "stream": "stdout",
       "text": [
        "Origin Airports with the largest delay\n"
       ]
      },
      {
       "metadata": {},
       "output_type": "pyout",
       "prompt_number": 13,
       "text": [
        "ORIGIN_AIRPORT\n",
        "Chico, CA: Chico Municipal                        19.179487\n",
        "Redding, CA: Redding Municipal                    19.330645\n",
        "Wrangell, AK: Wrangell Airport                    19.672131\n",
        "Yakutat, AK: Yakutat Airport                      21.295082\n",
        "Hancock/Houghton, MI: Houghton County Memorial    23.580645\n",
        "Ketchikan, AK: Ketchikan International            23.875676\n",
        "Cordova, AK: Merle K Mudhole Smith                25.327869\n",
        "Sitka, AK: Sitka Rocky Gutierrez                  27.663043\n",
        "Petersburg, AK: Petersburg James A Johnson        27.721311\n",
        "Juneau, AK: Juneau International                  30.940397\n",
        "Name: DEP_DELAY, dtype: float64"
       ]
      }
     ],
     "prompt_number": 13
    },
    {
     "cell_type": "code",
     "collapsed": false,
     "input": [
      "# Find and sort arrival delays by origin airport\n",
      "arr_delay_origin = df.groupby(['ORIGIN_AIRPORT']).ARR_DELAY.mean()\n",
      "arr_delay_origin.sort()\n",
      "print 'Origin Airports with the smallest (or early) arrival delay'\n",
      "arr_delay_origin.head(10)"
     ],
     "language": "python",
     "metadata": {},
     "outputs": [
      {
       "metadata": {},
       "output_type": "pyout",
       "prompt_number": 18,
       "text": [
        "ORIGIN_AIRPORT\n",
        "Ponce, PR: Mercedita                                           -11.790323\n",
        "Cody, WY: Yellowstone Regional                                 -10.776471\n",
        "El Centro, CA: Imperial County                                  -8.438596\n",
        "Inyokern, CA: Inyokern Airport                                  -8.310811\n",
        "Lake Charles, LA: Lake Charles Regional                         -6.838235\n",
        "Carlsbad, CA: McClellan-Palomar                                 -5.351648\n",
        "Santa Maria, CA: Santa Maria Public/Capt. G. Allan Hancock Field    -5.016807\n",
        "Brownsville, TX: Brownsville South Padre Island International    -4.773438\n",
        "Yuma, AZ: Yuma MCAS/Yuma International                          -4.752101\n",
        "Oxnard/Ventura, CA: Oxnard                                      -4.630000\n",
        "Name: ARR_DELAY, dtype: float64"
       ]
      }
     ],
     "prompt_number": 18
    },
    {
     "cell_type": "code",
     "collapsed": false,
     "input": [
      "print 'Origin Airports with the largest arrival delay'\n",
      "arr_delay_origin.tail(10)"
     ],
     "language": "python",
     "metadata": {},
     "outputs": [
      {
       "output_type": "stream",
       "stream": "stdout",
       "text": [
        "Origin Airports with the largest arrival delay\n"
       ]
      },
      {
       "metadata": {},
       "output_type": "pyout",
       "prompt_number": 19,
       "text": [
        "ORIGIN_AIRPORT\n",
        "Chico, CA: Chico Municipal                        16.769231\n",
        "Wrangell, AK: Wrangell Airport                    17.311475\n",
        "Redding, CA: Redding Municipal                    17.403226\n",
        "Sitka, AK: Sitka Rocky Gutierrez                  21.402174\n",
        "Petersburg, AK: Petersburg James A Johnson        21.885246\n",
        "Yakutat, AK: Yakutat Airport                      22.639344\n",
        "Ketchikan, AK: Ketchikan International            22.918919\n",
        "Hancock/Houghton, MI: Houghton County Memorial    24.193548\n",
        "Cordova, AK: Merle K Mudhole Smith                24.737705\n",
        "Juneau, AK: Juneau International                  32.321192\n",
        "Name: ARR_DELAY, dtype: float64"
       ]
      }
     ],
     "prompt_number": 19
    },
    {
     "cell_type": "code",
     "collapsed": false,
     "input": [
      "# Origin Airport count - find the busiest airports by Origin\n",
      "count_origin = df.groupby(['ORIGIN_AIRPORT']).ORIGIN_AIRPORT_ID.count()\n",
      "count_origin.sort()\n",
      "print 'Busiest Airports by origin'\n",
      "count_origin.tail(10)"
     ],
     "language": "python",
     "metadata": {},
     "outputs": [
      {
       "output_type": "stream",
       "stream": "stdout",
       "text": [
        "Busiest Airports by origin\n"
       ]
      },
      {
       "metadata": {},
       "output_type": "pyout",
       "prompt_number": 55,
       "text": [
        "ORIGIN_AIRPORT\n",
        "Salt Lake City, UT: Salt Lake City International          11054\n",
        "Detroit, MI: Detroit Metro Wayne County                   11806\n",
        "Las Vegas, NV: McCarran International                     12967\n",
        "Houston, TX: George Bush Intercontinental/Houston         14275\n",
        "Phoenix, AZ: Phoenix Sky Harbor International             15505\n",
        "Los Angeles, CA: Los Angeles International                15849\n",
        "Denver, CO: Denver International                          19454\n",
        "Dallas/Fort Worth, TX: Dallas/Fort Worth International    21894\n",
        "Chicago, IL: Chicago O'Hare International                 25981\n",
        "Atlanta, GA: Hartsfield-Jackson Atlanta International     33354\n",
        "Name: ORIGIN_AIRPORT_ID, dtype: int64"
       ]
      }
     ],
     "prompt_number": 55
    },
    {
     "cell_type": "code",
     "collapsed": false,
     "input": [
      "# Origin Airport count - find the quietest airports\n",
      "print 'Quietest Airports by origin'\n",
      "count_origin.head(10)"
     ],
     "language": "python",
     "metadata": {},
     "outputs": [
      {
       "output_type": "stream",
       "stream": "stdout",
       "text": [
        "Quietest Airports by origin\n"
       ]
      },
      {
       "metadata": {},
       "output_type": "pyout",
       "prompt_number": 56,
       "text": [
        "ORIGIN_AIRPORT\n",
        "Sioux City, IA: Sioux Gateway/Col. Bud Day Field          2\n",
        "Adak Island, AK: Adak                                     9\n",
        "Waterloo, IA: Waterloo Regional                          27\n",
        "Rhinelander, WI: Rhinelander/Oneida County               31\n",
        "Ithaca/Cortland, NY: Ithaca Tompkins Regional            31\n",
        "Hancock/Houghton, MI: Houghton County Memorial           31\n",
        "Christiansted, VI: Henry E. Rohlsen                      41\n",
        "Lynchburg, VA: Lynchburg Regional/Preston Glenn Field    48\n",
        "Lewiston, ID: Lewiston Nez Perce County                  49\n",
        "Telluride, CO: Telluride Regional                        51\n",
        "Name: ORIGIN_AIRPORT_ID, dtype: int64"
       ]
      }
     ],
     "prompt_number": 56
    },
    {
     "cell_type": "code",
     "collapsed": false,
     "input": [
      "# Most common reason for delay by origin airport\n",
      "df['TOTAL_DELAY'] = df.CARRIER_DELAY + df.WEATHER_DELAY + df.NAS_DELAY + df.SECURITY_DELAY + df.LATE_AIRCRAFT_DELAY\n",
      "delay_origin = df.groupby(['ORIGIN_AIRPORT'])['CARRIER_DELAY', 'WEATHER_DELAY', 'NAS_DELAY', 'SECURITY_DELAY', 'LATE_AIRCRAFT_DELAY', 'TOTAL_DELAY'].mean()\n",
      "delay_origin.sort('TOTAL_DELAY', inplace=True)\n",
      "print 'Most common delays'\n",
      "delay_origin.tail(10)"
     ],
     "language": "python",
     "metadata": {},
     "outputs": [
      {
       "output_type": "stream",
       "stream": "stdout",
       "text": [
        "Most common delays\n"
       ]
      },
      {
       "html": [
        "<div style=\"max-height:1000px;max-width:1500px;overflow:auto;\">\n",
        "<table border=\"1\" class=\"dataframe\">\n",
        "  <thead>\n",
        "    <tr style=\"text-align: right;\">\n",
        "      <th></th>\n",
        "      <th>CARRIER_DELAY</th>\n",
        "      <th>WEATHER_DELAY</th>\n",
        "      <th>NAS_DELAY</th>\n",
        "      <th>SECURITY_DELAY</th>\n",
        "      <th>LATE_AIRCRAFT_DELAY</th>\n",
        "      <th>TOTAL_DELAY</th>\n",
        "    </tr>\n",
        "    <tr>\n",
        "      <th>ORIGIN_AIRPORT</th>\n",
        "      <th></th>\n",
        "      <th></th>\n",
        "      <th></th>\n",
        "      <th></th>\n",
        "      <th></th>\n",
        "      <th></th>\n",
        "    </tr>\n",
        "  </thead>\n",
        "  <tbody>\n",
        "    <tr>\n",
        "      <th>Chico, CA: Chico Municipal</th>\n",
        "      <td>  1.658120</td>\n",
        "      <td> 0.153846</td>\n",
        "      <td> 5.162393</td>\n",
        "      <td> 0.000000</td>\n",
        "      <td> 15.094017</td>\n",
        "      <td> 22.068376</td>\n",
        "    </tr>\n",
        "    <tr>\n",
        "      <th>Wrangell, AK: Wrangell Airport</th>\n",
        "      <td>  0.000000</td>\n",
        "      <td> 3.229508</td>\n",
        "      <td> 1.377049</td>\n",
        "      <td> 0.737705</td>\n",
        "      <td> 17.573770</td>\n",
        "      <td> 22.918033</td>\n",
        "    </tr>\n",
        "    <tr>\n",
        "      <th>Redding, CA: Redding Municipal</th>\n",
        "      <td>  1.306452</td>\n",
        "      <td> 1.911290</td>\n",
        "      <td> 8.653226</td>\n",
        "      <td> 0.000000</td>\n",
        "      <td> 11.983871</td>\n",
        "      <td> 23.854839</td>\n",
        "    </tr>\n",
        "    <tr>\n",
        "      <th>Sitka, AK: Sitka Rocky Gutierrez</th>\n",
        "      <td>  1.619565</td>\n",
        "      <td> 6.206522</td>\n",
        "      <td> 2.032609</td>\n",
        "      <td> 0.000000</td>\n",
        "      <td> 14.565217</td>\n",
        "      <td> 24.423913</td>\n",
        "    </tr>\n",
        "    <tr>\n",
        "      <th>Hancock/Houghton, MI: Houghton County Memorial</th>\n",
        "      <td> 19.612903</td>\n",
        "      <td> 0.000000</td>\n",
        "      <td> 2.483871</td>\n",
        "      <td> 0.000000</td>\n",
        "      <td>  4.000000</td>\n",
        "      <td> 26.096774</td>\n",
        "    </tr>\n",
        "    <tr>\n",
        "      <th>Petersburg, AK: Petersburg James A Johnson</th>\n",
        "      <td>  0.163934</td>\n",
        "      <td> 2.885246</td>\n",
        "      <td> 1.737705</td>\n",
        "      <td> 0.000000</td>\n",
        "      <td> 21.770492</td>\n",
        "      <td> 26.557377</td>\n",
        "    </tr>\n",
        "    <tr>\n",
        "      <th>Ketchikan, AK: Ketchikan International</th>\n",
        "      <td>  3.254054</td>\n",
        "      <td> 1.859459</td>\n",
        "      <td> 3.627027</td>\n",
        "      <td> 0.000000</td>\n",
        "      <td> 19.383784</td>\n",
        "      <td> 28.124324</td>\n",
        "    </tr>\n",
        "    <tr>\n",
        "      <th>Cordova, AK: Merle K Mudhole Smith</th>\n",
        "      <td>  4.901639</td>\n",
        "      <td> 1.262295</td>\n",
        "      <td> 1.459016</td>\n",
        "      <td> 0.000000</td>\n",
        "      <td> 25.344262</td>\n",
        "      <td> 32.967213</td>\n",
        "    </tr>\n",
        "    <tr>\n",
        "      <th>Yakutat, AK: Yakutat Airport</th>\n",
        "      <td>  0.147541</td>\n",
        "      <td> 2.754098</td>\n",
        "      <td> 2.770492</td>\n",
        "      <td> 0.000000</td>\n",
        "      <td> 28.295082</td>\n",
        "      <td> 33.967213</td>\n",
        "    </tr>\n",
        "    <tr>\n",
        "      <th>Juneau, AK: Juneau International</th>\n",
        "      <td>  6.963576</td>\n",
        "      <td> 2.456954</td>\n",
        "      <td> 4.483444</td>\n",
        "      <td> 0.000000</td>\n",
        "      <td> 21.182119</td>\n",
        "      <td> 35.086093</td>\n",
        "    </tr>\n",
        "  </tbody>\n",
        "</table>\n",
        "</div>"
       ],
       "metadata": {},
       "output_type": "pyout",
       "prompt_number": 59,
       "text": [
        "                                                CARRIER_DELAY  WEATHER_DELAY  \\\n",
        "ORIGIN_AIRPORT                                                                 \n",
        "Chico, CA: Chico Municipal                           1.658120       0.153846   \n",
        "Wrangell, AK: Wrangell Airport                       0.000000       3.229508   \n",
        "Redding, CA: Redding Municipal                       1.306452       1.911290   \n",
        "Sitka, AK: Sitka Rocky Gutierrez                     1.619565       6.206522   \n",
        "Hancock/Houghton, MI: Houghton County Memorial      19.612903       0.000000   \n",
        "Petersburg, AK: Petersburg James A Johnson           0.163934       2.885246   \n",
        "Ketchikan, AK: Ketchikan International               3.254054       1.859459   \n",
        "Cordova, AK: Merle K Mudhole Smith                   4.901639       1.262295   \n",
        "Yakutat, AK: Yakutat Airport                         0.147541       2.754098   \n",
        "Juneau, AK: Juneau International                     6.963576       2.456954   \n",
        "\n",
        "                                                NAS_DELAY  SECURITY_DELAY  \\\n",
        "ORIGIN_AIRPORT                                                              \n",
        "Chico, CA: Chico Municipal                       5.162393        0.000000   \n",
        "Wrangell, AK: Wrangell Airport                   1.377049        0.737705   \n",
        "Redding, CA: Redding Municipal                   8.653226        0.000000   \n",
        "Sitka, AK: Sitka Rocky Gutierrez                 2.032609        0.000000   \n",
        "Hancock/Houghton, MI: Houghton County Memorial   2.483871        0.000000   \n",
        "Petersburg, AK: Petersburg James A Johnson       1.737705        0.000000   \n",
        "Ketchikan, AK: Ketchikan International           3.627027        0.000000   \n",
        "Cordova, AK: Merle K Mudhole Smith               1.459016        0.000000   \n",
        "Yakutat, AK: Yakutat Airport                     2.770492        0.000000   \n",
        "Juneau, AK: Juneau International                 4.483444        0.000000   \n",
        "\n",
        "                                                LATE_AIRCRAFT_DELAY  \\\n",
        "ORIGIN_AIRPORT                                                        \n",
        "Chico, CA: Chico Municipal                                15.094017   \n",
        "Wrangell, AK: Wrangell Airport                            17.573770   \n",
        "Redding, CA: Redding Municipal                            11.983871   \n",
        "Sitka, AK: Sitka Rocky Gutierrez                          14.565217   \n",
        "Hancock/Houghton, MI: Houghton County Memorial             4.000000   \n",
        "Petersburg, AK: Petersburg James A Johnson                21.770492   \n",
        "Ketchikan, AK: Ketchikan International                    19.383784   \n",
        "Cordova, AK: Merle K Mudhole Smith                        25.344262   \n",
        "Yakutat, AK: Yakutat Airport                              28.295082   \n",
        "Juneau, AK: Juneau International                          21.182119   \n",
        "\n",
        "                                                TOTAL_DELAY  \n",
        "ORIGIN_AIRPORT                                               \n",
        "Chico, CA: Chico Municipal                        22.068376  \n",
        "Wrangell, AK: Wrangell Airport                    22.918033  \n",
        "Redding, CA: Redding Municipal                    23.854839  \n",
        "Sitka, AK: Sitka Rocky Gutierrez                  24.423913  \n",
        "Hancock/Houghton, MI: Houghton County Memorial    26.096774  \n",
        "Petersburg, AK: Petersburg James A Johnson        26.557377  \n",
        "Ketchikan, AK: Ketchikan International            28.124324  \n",
        "Cordova, AK: Merle K Mudhole Smith                32.967213  \n",
        "Yakutat, AK: Yakutat Airport                      33.967213  \n",
        "Juneau, AK: Juneau International                  35.086093  "
       ]
      }
     ],
     "prompt_number": 59
    },
    {
     "cell_type": "code",
     "collapsed": false,
     "input": [],
     "language": "python",
     "metadata": {},
     "outputs": []
    }
   ],
   "metadata": {}
  }
 ]
}