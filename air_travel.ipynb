{
 "metadata": {
  "name": "",
  "signature": "sha256:b0a81f33423c485f2490dd80bd5fcea884d5b9779f8617f19950e8a25b03677f"
 },
 "nbformat": 3,
 "nbformat_minor": 0,
 "worksheets": [
  {
   "cells": [
    {
     "cell_type": "code",
     "collapsed": false,
     "input": [
      "# Standard imports\n",
      "import numpy as np\n",
      "import pandas as pd\n",
      "import matplotlib.pyplot as plt\n",
      "%matplotlib inline"
     ],
     "language": "python",
     "metadata": {},
     "outputs": [],
     "prompt_number": 1
    },
    {
     "cell_type": "code",
     "collapsed": false,
     "input": [
      "# Import additional data\n",
      "df_airports = pd.read_csv('airport_IDs.csv')\n",
      "df_carriers = pd.read_csv('carriers.csv')"
     ],
     "language": "python",
     "metadata": {},
     "outputs": [],
     "prompt_number": 2
    },
    {
     "cell_type": "code",
     "collapsed": false,
     "input": [
      "# Import primary data\n",
      "df = pd.read_csv('2009_01.csv',na_filter=True)\n",
      "df.drop('Unnamed: 16', axis=1, inplace=True)\n",
      "# Replace missing data\n",
      "df.replace(to_replace=np.NaN, value=0.0, inplace=True)"
     ],
     "language": "python",
     "metadata": {},
     "outputs": [],
     "prompt_number": 4
    },
    {
     "cell_type": "code",
     "collapsed": false,
     "input": [
      "# Merge in carrier ID information\n",
      "df = df.merge(df_carriers, left_on='UNIQUE_CARRIER', right_on='Code')\n",
      "df.drop('Code',axis=1, inplace=True)\n",
      "df.rename(columns={'Description': 'CARRIER'}, inplace=True)"
     ],
     "language": "python",
     "metadata": {},
     "outputs": [],
     "prompt_number": 7
    },
    {
     "cell_type": "code",
     "collapsed": false,
     "input": [
      "# Merge on origin airport ID\n",
      "df = df.merge(df_airports, left_on='ORIGIN_AIRPORT_ID', right_on='Code')\n",
      "df.drop('Code', axis=1, inplace=True)\n",
      "df.rename(columns={'Description': 'ORIGIN_AIRPORT'}, inplace=True)"
     ],
     "language": "python",
     "metadata": {},
     "outputs": [],
     "prompt_number": 9
    },
    {
     "cell_type": "code",
     "collapsed": false,
     "input": [
      "# Merge on destination airport ID\n",
      "df = df.merge(df_airports, left_on='DEST_AIRPORT_ID', right_on='Code')\n",
      "df.drop('Code', axis=1, inplace=True)\n",
      "df.rename(columns={'Description': 'DEST_AIRPORT'}, inplace=True)"
     ],
     "language": "python",
     "metadata": {},
     "outputs": [],
     "prompt_number": 11
    },
    {
     "cell_type": "code",
     "collapsed": false,
     "input": [
      "# Find and sort departure delays by origin airport\n",
      "dep_delay_origin = df.groupby(['ORIGIN_AIRPORT']).DEP_DELAY.mean()\n",
      "dep_delay_origin.sort()\n",
      "print 'Origin Airports with the smallest (or early) departure delay'\n",
      "dep_delay_origin.head(10)"
     ],
     "language": "python",
     "metadata": {},
     "outputs": [
      {
       "output_type": "stream",
       "stream": "stdout",
       "text": [
        "Origin Airports with the smallest (or early) delay\n"
       ]
      },
      {
       "metadata": {},
       "output_type": "pyout",
       "prompt_number": 12,
       "text": [
        "ORIGIN_AIRPORT\n",
        "Cody, WY: Yellowstone Regional                                 -6.858824\n",
        "Sioux City, IA: Sioux Gateway/Col. Bud Day Field               -4.500000\n",
        "El Centro, CA: Imperial County                                 -4.385965\n",
        "Lake Charles, LA: Lake Charles Regional                        -3.838235\n",
        "Telluride, CO: Telluride Regional                              -3.666667\n",
        "Elko, NV: Elko Regional                                        -2.560976\n",
        "Brownsville, TX: Brownsville South Padre Island International   -2.140625\n",
        "Flagstaff, AZ: Flagstaff Pulliam                               -1.953271\n",
        "Yuma, AZ: Yuma MCAS/Yuma International                         -1.785714\n",
        "Santa Maria, CA: Santa Maria Public/Capt. G. Allan Hancock Field   -1.781513\n",
        "Name: DEP_DELAY, dtype: float64"
       ]
      }
     ],
     "prompt_number": 12
    },
    {
     "cell_type": "code",
     "collapsed": false,
     "input": [
      "print 'Origin Airports with the largest departure delay'\n",
      "dep_delay_origin.tail(10)"
     ],
     "language": "python",
     "metadata": {},
     "outputs": [
      {
       "output_type": "stream",
       "stream": "stdout",
       "text": [
        "Origin Airports with the largest delay\n"
       ]
      },
      {
       "metadata": {},
       "output_type": "pyout",
       "prompt_number": 13,
       "text": [
        "ORIGIN_AIRPORT\n",
        "Chico, CA: Chico Municipal                        19.179487\n",
        "Redding, CA: Redding Municipal                    19.330645\n",
        "Wrangell, AK: Wrangell Airport                    19.672131\n",
        "Yakutat, AK: Yakutat Airport                      21.295082\n",
        "Hancock/Houghton, MI: Houghton County Memorial    23.580645\n",
        "Ketchikan, AK: Ketchikan International            23.875676\n",
        "Cordova, AK: Merle K Mudhole Smith                25.327869\n",
        "Sitka, AK: Sitka Rocky Gutierrez                  27.663043\n",
        "Petersburg, AK: Petersburg James A Johnson        27.721311\n",
        "Juneau, AK: Juneau International                  30.940397\n",
        "Name: DEP_DELAY, dtype: float64"
       ]
      }
     ],
     "prompt_number": 13
    },
    {
     "cell_type": "code",
     "collapsed": false,
     "input": [
      "# Find and sort arrival delays by origin airport\n",
      "arr_delay_origin = df.groupby(['ORIGIN_AIRPORT']).ARR_DELAY.mean()\n",
      "arr_delay_origin.sort()\n",
      "print 'Origin Airports with the smallest (or early) arrival delay'\n",
      "arr_delay_origin.head(10)"
     ],
     "language": "python",
     "metadata": {},
     "outputs": [
      {
       "metadata": {},
       "output_type": "pyout",
       "prompt_number": 18,
       "text": [
        "ORIGIN_AIRPORT\n",
        "Ponce, PR: Mercedita                                           -11.790323\n",
        "Cody, WY: Yellowstone Regional                                 -10.776471\n",
        "El Centro, CA: Imperial County                                  -8.438596\n",
        "Inyokern, CA: Inyokern Airport                                  -8.310811\n",
        "Lake Charles, LA: Lake Charles Regional                         -6.838235\n",
        "Carlsbad, CA: McClellan-Palomar                                 -5.351648\n",
        "Santa Maria, CA: Santa Maria Public/Capt. G. Allan Hancock Field    -5.016807\n",
        "Brownsville, TX: Brownsville South Padre Island International    -4.773438\n",
        "Yuma, AZ: Yuma MCAS/Yuma International                          -4.752101\n",
        "Oxnard/Ventura, CA: Oxnard                                      -4.630000\n",
        "Name: ARR_DELAY, dtype: float64"
       ]
      }
     ],
     "prompt_number": 18
    },
    {
     "cell_type": "code",
     "collapsed": false,
     "input": [
      "print 'Origin Airports with the largest arrival delay'\n",
      "arr_delay_origin.tail(10)"
     ],
     "language": "python",
     "metadata": {},
     "outputs": [
      {
       "output_type": "stream",
       "stream": "stdout",
       "text": [
        "Origin Airports with the largest arrival delay\n"
       ]
      },
      {
       "metadata": {},
       "output_type": "pyout",
       "prompt_number": 19,
       "text": [
        "ORIGIN_AIRPORT\n",
        "Chico, CA: Chico Municipal                        16.769231\n",
        "Wrangell, AK: Wrangell Airport                    17.311475\n",
        "Redding, CA: Redding Municipal                    17.403226\n",
        "Sitka, AK: Sitka Rocky Gutierrez                  21.402174\n",
        "Petersburg, AK: Petersburg James A Johnson        21.885246\n",
        "Yakutat, AK: Yakutat Airport                      22.639344\n",
        "Ketchikan, AK: Ketchikan International            22.918919\n",
        "Hancock/Houghton, MI: Houghton County Memorial    24.193548\n",
        "Cordova, AK: Merle K Mudhole Smith                24.737705\n",
        "Juneau, AK: Juneau International                  32.321192\n",
        "Name: ARR_DELAY, dtype: float64"
       ]
      }
     ],
     "prompt_number": 19
    },
    {
     "cell_type": "code",
     "collapsed": false,
     "input": [
      "# Origin Airport count - find the busiest airports by Origin\n",
      "count_origin = df.groupby(['ORIGIN_AIRPORT']).ORIGIN_AIRPORT_ID.count()\n",
      "count_origin.sort()\n",
      "print 'Busiest Airports by origin'\n",
      "count_origin.tail(10)"
     ],
     "language": "python",
     "metadata": {},
     "outputs": [
      {
       "output_type": "stream",
       "stream": "stdout",
       "text": [
        "Busiest Airports by origin\n"
       ]
      },
      {
       "metadata": {},
       "output_type": "pyout",
       "prompt_number": 20,
       "text": [
        "ORIGIN_AIRPORT\n",
        "Salt Lake City, UT: Salt Lake City International          11054\n",
        "Detroit, MI: Detroit Metro Wayne County                   11806\n",
        "Las Vegas, NV: McCarran International                     12967\n",
        "Houston, TX: George Bush Intercontinental/Houston         14275\n",
        "Phoenix, AZ: Phoenix Sky Harbor International             15505\n",
        "Los Angeles, CA: Los Angeles International                15849\n",
        "Denver, CO: Denver International                          19454\n",
        "Dallas/Fort Worth, TX: Dallas/Fort Worth International    21894\n",
        "Chicago, IL: Chicago O'Hare International                 25981\n",
        "Atlanta, GA: Hartsfield-Jackson Atlanta International     33354\n",
        "Name: ORIGIN_AIRPORT_ID, dtype: int64"
       ]
      }
     ],
     "prompt_number": 20
    },
    {
     "cell_type": "code",
     "collapsed": false,
     "input": [
      "# Origin Airport count - find the busiest airports\n",
      "print 'Quietest Airports by origin'\n",
      "count_origin.head(10)"
     ],
     "language": "python",
     "metadata": {},
     "outputs": [
      {
       "output_type": "stream",
       "stream": "stdout",
       "text": [
        "Quietest Airports by origin\n"
       ]
      },
      {
       "metadata": {},
       "output_type": "pyout",
       "prompt_number": 21,
       "text": [
        "ORIGIN_AIRPORT\n",
        "Sioux City, IA: Sioux Gateway/Col. Bud Day Field          2\n",
        "Adak Island, AK: Adak                                     9\n",
        "Waterloo, IA: Waterloo Regional                          27\n",
        "Rhinelander, WI: Rhinelander/Oneida County               31\n",
        "Ithaca/Cortland, NY: Ithaca Tompkins Regional            31\n",
        "Hancock/Houghton, MI: Houghton County Memorial           31\n",
        "Christiansted, VI: Henry E. Rohlsen                      41\n",
        "Lynchburg, VA: Lynchburg Regional/Preston Glenn Field    48\n",
        "Lewiston, ID: Lewiston Nez Perce County                  49\n",
        "Telluride, CO: Telluride Regional                        51\n",
        "Name: ORIGIN_AIRPORT_ID, dtype: int64"
       ]
      }
     ],
     "prompt_number": 21
    },
    {
     "cell_type": "code",
     "collapsed": false,
     "input": [],
     "language": "python",
     "metadata": {},
     "outputs": []
    }
   ],
   "metadata": {}
  }
 ]
}